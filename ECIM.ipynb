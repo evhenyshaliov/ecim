{
  "nbformat": 4,
  "nbformat_minor": 0,
  "metadata": {
    "colab": {
      "provenance": []
    },
    "kernelspec": {
      "name": "python3",
      "display_name": "Python 3"
    },
    "language_info": {
      "name": "python"
    }
  },
  "cells": [
    {
      "cell_type": "markdown",
      "source": [
        "# Init"
      ],
      "metadata": {
        "id": "feBzM6OmEbJ8"
      }
    },
    {
      "cell_type": "markdown",
      "source": [
        "### Required"
      ],
      "metadata": {
        "id": "H2Zp9QYou-ha"
      }
    },
    {
      "cell_type": "code",
      "source": [
        "!pip install -r requirements.txt"
      ],
      "metadata": {
        "id": "_uYaZwBKtuSR"
      },
      "execution_count": null,
      "outputs": []
    },
    {
      "cell_type": "code",
      "source": [
        "from google.colab import auth\n",
        "auth.authenticate_user()\n",
        "print('done')"
      ],
      "metadata": {
        "id": "d8VE9Wc0hISm"
      },
      "execution_count": null,
      "outputs": []
    },
    {
      "cell_type": "code",
      "source": [
        "import pprint\n",
        "import requests\n",
        "\n",
        "import os\n",
        "import pprint\n",
        "import urllib3\n",
        "import json\n",
        "\n",
        "from pprint import pprint\n",
        "\n",
        "from osdu_api.auth.refresh_token import BaseTokenRefresher\n",
        "\n",
        "from osdu_api.clients.storage.record_client import RecordClient\n",
        "from osdu_api.clients.search.search_client import SearchClient\n",
        "from osdu_api.clients.schema.schema_client import SchemaClient\n",
        "from osdu_api.clients.dataset.dataset_dms_client import DatasetDmsClient\n",
        "from osdu_api.clients.dataset.dataset_registry_client import DatasetRegistryClient\n",
        "\n",
        "from osdu_api.model.storage.legal import Legal\n",
        "from osdu_api.model.storage.record import Record\n",
        "from osdu_api.model.storage.record_ancestry import RecordAncestry\n",
        "from osdu_api.model.storage.acl import Acl\n",
        "from osdu_api.model.search.query_request import QueryRequest\n",
        "from osdu_api.model.storage.query_records_request import QueryRecordsRequest\n",
        "from osdu_api.model.dataset.create_dataset_registries_request import CreateDatasetRegistriesRequest\n",
        "\n",
        "urllib3.disable_warnings()\n"
      ],
      "metadata": {
        "id": "JR9akV6hviLw"
      },
      "execution_count": 2,
      "outputs": []
    },
    {
      "cell_type": "code",
      "source": [
        "BASE_URL = \"https://ecim.gcp.gnrg-osdu.projects.epam.com\"\n",
        "CLOUD_PROVIDER = \"gc\"\n",
        "os.environ[\"CLOUD_PROVIDER\"] = CLOUD_PROVIDER\n",
        "\n",
        "config_url = BASE_URL + \"/api/config/v1/postman-environment\"\n",
        "config_response = requests.get(config_url).json()\n",
        "config = {}\n",
        "for entity in config_response['values']:\n",
        "  config[entity['key']] = entity['value']\n",
        "\n",
        "# pprint(config_response)\n",
        "print(config['SEISMICDMS_HOST'])"
      ],
      "metadata": {
        "id": "Jkdw3w9GhoAN"
      },
      "execution_count": null,
      "outputs": []
    },
    {
      "cell_type": "code",
      "source": [
        "token_refresher = BaseTokenRefresher()\n",
        "token_refresher.refresh_token()"
      ],
      "metadata": {
        "id": "DpXun6o1Ifq8"
      },
      "execution_count": null,
      "outputs": []
    },
    {
      "cell_type": "code",
      "source": [
        "search_client = SearchClient(\n",
        "    search_url=f\"https://{config['SEARCH_HOST']}\",\n",
        "    provider=CLOUD_PROVIDER,\n",
        "    token_refresher=token_refresher,\n",
        "    data_partition_id=config['data-partition-id']\n",
        ")\n",
        "\n",
        "schema_client = SchemaClient(\n",
        "    schema_url=f\"https://{config['SCHEMA_HOST']}\",\n",
        "    provider=CLOUD_PROVIDER,\n",
        "    token_refresher=token_refresher,\n",
        "    data_partition_id=config['data-partition-id']\n",
        ")\n",
        "\n",
        "dataset_client = DatasetDmsClient(\n",
        "    dataset_url=f\"https://{config['DATASET_HOST']}\",\n",
        "    provider=CLOUD_PROVIDER,\n",
        "    token_refresher=token_refresher,\n",
        "    data_partition_id=config['data-partition-id']\n",
        ")\n",
        "dataset_registry_client = DatasetRegistryClient(\n",
        "    dataset_url=f\"https://{config['DATASET_HOST']}\",\n",
        "    provider=CLOUD_PROVIDER,\n",
        "    token_refresher=token_refresher,\n",
        "    data_partition_id=config['data-partition-id']\n",
        ")\n",
        "\n",
        "storage_client = record_client = RecordClient(\n",
        "    storage_url=f\"https://{config['STORAGE_HOST']}\",\n",
        "    provider=CLOUD_PROVIDER,\n",
        "    token_refresher=token_refresher,\n",
        "    data_partition_id=config['data-partition-id']\n",
        ")\n",
        "\n",
        "urllib3.disable_warnings()\n",
        "print('done')"
      ],
      "metadata": {
        "id": "9WPPUoYtwx48"
      },
      "execution_count": null,
      "outputs": []
    },
    {
      "cell_type": "code",
      "source": [
        "query_request = QueryRequest(\n",
        "    kind=\"osdu:wks:dataset--File.Generic:1.0.0\",\n",
        "    query=\"\",\n",
        "    limit=1,\n",
        "    returned_fields=[\"*\"]\n",
        ")\n",
        "response = search_client.query_records(query_request).json()\n",
        "default_acl = response['results'][0]['acl']\n",
        "default_legal_tags = [\"osdu-default-data-tag\"]\n",
        "\n",
        "# pprint(response)\n",
        "pprint(default_acl)\n",
        "pprint(default_legal_tags)"
      ],
      "metadata": {
        "id": "ajTa3dMdcx_S"
      },
      "execution_count": null,
      "outputs": []
    },
    {
      "cell_type": "markdown",
      "source": [
        "# Slot 1 - Using Core APIs"
      ],
      "metadata": {
        "id": "oI41pTCtniEZ"
      }
    },
    {
      "cell_type": "markdown",
      "source": [
        "#### All to register and make successful connection to workbook and both OSDU instances"
      ],
      "metadata": {
        "id": "WMwvDGXluFA0"
      }
    },
    {
      "cell_type": "code",
      "source": [
        "search_response = requests.get(f\"https://{config['SEARCH_HOST']}/info\")\n",
        "\n",
        "pprint(search_response.json())"
      ],
      "metadata": {
        "id": "n8gfFHFREfr8"
      },
      "execution_count": null,
      "outputs": []
    },
    {
      "cell_type": "markdown",
      "source": [
        "#### All able to execute and understand the result on some of the core APIs"
      ],
      "metadata": {
        "id": "5_pOi-TXuNvF"
      }
    },
    {
      "cell_type": "code",
      "source": [
        "# List all records\n",
        "query_request = QueryRequest(\n",
        "    kind= \"*:*:*:*\",\n",
        "    query=\"\",\n",
        "    limit=2,\n",
        "    returned_fields=[\"*\"]\n",
        ")\n",
        "response = search_client.query_records(query_request)\n",
        "\n",
        "pprint(response.json())\n"
      ],
      "metadata": {
        "id": "RsJv6RByEhCp"
      },
      "execution_count": null,
      "outputs": []
    },
    {
      "cell_type": "code",
      "source": [
        "# List a specific subset of records based on schema type/kind\n",
        "query_request = QueryRequest(\n",
        "    kind=\"osdu:wks:dataset--File.Generic:1.0.0\",\n",
        "    query=\"\",\n",
        "    limit=2,\n",
        "    returned_fields=[\"*\"]\n",
        ")\n",
        "response = search_client.query_records(query_request)\n",
        "\n",
        "pprint(response.json())"
      ],
      "metadata": {
        "id": "ssjvUK-Epeyl"
      },
      "execution_count": null,
      "outputs": []
    },
    {
      "cell_type": "code",
      "source": [
        "# Find the description of specific schema/kind to show that schemas are a part of the platform\n",
        "response = schema_client.get_schema_by_id('').json()\n",
        "pprint(response)"
      ],
      "metadata": {
        "id": "7kocMJ7MpnBv"
      },
      "execution_count": null,
      "outputs": []
    },
    {
      "cell_type": "code",
      "source": [
        "# Extract some data from a specific data type\n",
        "# ???"
      ],
      "metadata": {
        "id": "XrvgXAQ7pvs0"
      },
      "execution_count": null,
      "outputs": []
    },
    {
      "cell_type": "markdown",
      "source": [
        "#### Show that the platform is generic and/extendable and can store any data type in addition to defined \"well known\" schemas"
      ],
      "metadata": {
        "id": "ritDpH2YuToM"
      }
    },
    {
      "cell_type": "code",
      "source": [
        "response = dataset_client.storage_instructions(kind_sub_type='dataset--File.Generic').json()\n",
        "pprint(response)"
      ],
      "metadata": {
        "id": "1fvJqT6iRYhd"
      },
      "execution_count": null,
      "outputs": []
    },
    {
      "cell_type": "code",
      "source": [
        "# All to upload an image\n",
        "\n",
        "def upload_file_and_metadata():\n",
        "  storage_instruction = dataset_client.storage_instructions(kind_sub_type=\"dataset--File.Generic\")\n",
        "  storage_location = storage_instruction.json()['storageLocation']\n",
        "  #### Uploading\n",
        "  with open('image.jpeg', 'rb') as file_content:\n",
        "    new_file = dataset_client.put_file(url=storage_location['signedUrl'], data=file_content, no_auth=True)\n",
        "\n",
        "  record_list = [\n",
        "                  Record( kind='osdu:wks:dataset--File.Generic:1.0.0',\n",
        "                          acl=Acl(owners=default_acl['owners'], viewers=default_acl['viewers']),\n",
        "                          legal=Legal(legaltags=default_legal_tags, other_relevant_data_countries=[\"US\"], status=\"compliant\"),\n",
        "                          data =   {\n",
        "                                      \"DatasetProperties\": {\n",
        "                                          \"FileSourceInfo\": {\n",
        "                                              \"FileSource\": storage_location['fileSource'],\n",
        "                                              \"Name\": \"image.jpeg\"\n",
        "                                          }\n",
        "                                      },\n",
        "                                      \"Name\": \"Dataset with images\",\n",
        "                                      \"ResourceSecurityClassification\": f\"{config['data-partition-id']}:reference-data--ResourceSecurityClassification:RESTRICTED:\",\n",
        "                                      \"SchemaFormatTypeID\": f\"{config['data-partition-id']}:reference-data--SchemaFormatType:TabSeparatedColumnarText:\"\n",
        "                                  },\n",
        "                          ancestry=RecordAncestry(parents=[]))\n",
        "              ]\n",
        "\n",
        "  registered_dataset = dataset_registry_client.register_dataset(CreateDatasetRegistriesRequest(dataset_registries=record_list))\n",
        "\n",
        "  pprint(storage_location)\n",
        "  pprint(registered_dataset.json())\n",
        "\n",
        "upload_file_and_metadata()"
      ],
      "metadata": {
        "id": "VYDzWtSxGKcY"
      },
      "execution_count": null,
      "outputs": []
    },
    {
      "cell_type": "code",
      "source": [
        "# All to find there image and probably the other attendances images\n",
        "query_request = QueryRequest(\n",
        "    kind=\"*:*:*:*\",\n",
        "    query=\"data.Name:\\\"Dataset with images\\\"\",\n",
        "    limit=10,\n",
        "    returned_fields=[\"*\"],\n",
        ")\n",
        "response = search_client.query_records(query_request)\n",
        "\n",
        "pprint(response.json())"
      ],
      "metadata": {
        "id": "YTmTEpoEEeeW"
      },
      "execution_count": null,
      "outputs": []
    },
    {
      "cell_type": "code",
      "source": [
        "# Show images in workbook and maybe on stage as they get uploaded\n",
        "# ???"
      ],
      "metadata": {
        "id": "BTSyPMGZEenD"
      },
      "execution_count": null,
      "outputs": []
    },
    {
      "cell_type": "markdown",
      "source": [
        "# Slot 2 - Investigating well data"
      ],
      "metadata": {
        "id": "jRF31-pLEbvy"
      }
    },
    {
      "cell_type": "markdown",
      "source": [
        "#### All to search/list wells/wellbores/wellogs/trajectories/... that is uploaded in the **instances**"
      ],
      "metadata": {
        "id": "WAGAT_QnYaIG"
      }
    },
    {
      "cell_type": "code",
      "source": [
        "# Wells\n",
        "query_request = QueryRequest(\n",
        "    kind=\"osdu:wks:master-data--Well:1.0.0\", # \"*:*:master-data--Well:*\",\n",
        "    query=\"\",\n",
        "    limit=5,\n",
        "    returned_fields=[\"*\"]\n",
        ")\n",
        "response = search_client.query_records(query_request)\n",
        "\n",
        "pprint(response.json())"
      ],
      "metadata": {
        "id": "EovcW3zZt-5i"
      },
      "execution_count": null,
      "outputs": []
    },
    {
      "cell_type": "code",
      "source": [
        "# Welllogs\n",
        "\n",
        "query_request = QueryRequest(\n",
        "    kind=\"osdu:wks:work-product-component--WellLog:*.*.*\",\n",
        "    query=\"\",\n",
        "    limit=5,\n",
        "    returned_fields=[\"*\"]\n",
        ")\n",
        "response = search_client.query_records(query_request)\n",
        "\n",
        "pprint(response.json())"
      ],
      "metadata": {
        "id": "Io6UwN3QVnhv"
      },
      "execution_count": null,
      "outputs": []
    },
    {
      "cell_type": "code",
      "source": [
        "# Wellbores\n",
        "\n",
        "query_request = QueryRequest(\n",
        "    kind=\"osdu:wks:master-data--Wellbore:1.0.0\",\n",
        "    query=\"\",\n",
        "    limit=5,\n",
        "    returned_fields=[\"*\"]\n",
        ")\n",
        "response = search_client.query_records(query_request)\n",
        "\n",
        "pprint(response.json())"
      ],
      "metadata": {
        "id": "75FtkgvzGhzr"
      },
      "execution_count": null,
      "outputs": []
    },
    {
      "cell_type": "code",
      "source": [
        "# Trajectories\n",
        "\n",
        "query_request = QueryRequest(\n",
        "    kind=\"osdu:wks:work-product-component--WellboreTrajectory:*.*.*\",\n",
        "    query=\"\",\n",
        "    limit=5,\n",
        "    returned_fields=[\"*\"]\n",
        ")\n",
        "response = search_client.query_records(query_request)\n",
        "\n",
        "pprint(response.json())"
      ],
      "metadata": {
        "id": "F0HyT1hUWGuC"
      },
      "execution_count": null,
      "outputs": []
    },
    {
      "cell_type": "markdown",
      "source": [
        "#### For one of the few well/wellobres that we have prepped a bit"
      ],
      "metadata": {
        "id": "OE6RDCRvYxKO"
      }
    },
    {
      "cell_type": "code",
      "source": [
        "# Use lineage to find welllogs/trajectories/... that belongs to a specific well/wellbore\n",
        "# Welllogs\n",
        "\n",
        "query_request = QueryRequest(\n",
        "    kind=\"osdu:wks:work-product-component--WellLog:*.*.*\",\n",
        "    query=\"data.WellboreID:\\\"osdu:master-data--Wellbore:7233:\\\"\",\n",
        "    limit=5,\n",
        "    returned_fields=[\"*\"]\n",
        ")\n",
        "response = search_client.query_records(query_request)\n",
        "\n",
        "pprint(response.json())\n"
      ],
      "metadata": {
        "id": "Zb21cOe-Y9OP"
      },
      "execution_count": null,
      "outputs": []
    },
    {
      "cell_type": "code",
      "source": [
        "# By usage show that the platform can handle and store versions for some of these data\n",
        "record = Record(\n",
        "    kind='osdu:wks:dataset--File.Generic:1.0.0',\n",
        "    acl=Acl(owners=default_acl['owners'], viewers=default_acl['viewers']),\n",
        "    legal=Legal(legaltags=default_legal_tags, other_relevant_data_countries=[\"US\"], status=\"compliant\"),\n",
        "    data= {\n",
        "        \"msg\": \"Initial Message from AutoTest while testing update\",\n",
        "        \"weight\": 777.0\n",
        "    })\n",
        "# create\n",
        "response = storage_client.create_update_records(records=[record])\n",
        "stored_record = response.json()\n",
        "recordId = stored_record['recordIds'][0]\n",
        "pprint(\"the new record\")\n",
        "pprint(stored_record)\n",
        "\n",
        "# get versions\n",
        "versions = storage_client.get_record_versions(recordId=recordId).json()\n",
        "pprint(\"current versions\")\n",
        "pprint(versions)\n",
        "\n",
        "# update\n",
        "record.data[\"weight\"] = 778\n",
        "record.id = recordId\n",
        "response = storage_client.create_update_records(records=[])\n",
        "\n",
        "# get versions\n",
        "versions = storage_client.get_record_versions(recordId=recordId).json()\n",
        "pprint(\"current versions\")\n",
        "pprint(versions)\n",
        "\n",
        "# update\n",
        "record.data[\"weight\"] = 779\n",
        "record.id = recordId\n",
        "response = storage_client.create_update_records(records=[record])\n",
        "\n",
        "# get versions\n",
        "versions = storage_client.get_record_versions(recordId=recordId).json()\n",
        "pprint(\"current versions\")\n",
        "pprint(versions)\n",
        "checking_version = versions[\"versions\"][2]\n",
        "\n",
        "pprint(checking_version)\n",
        "\n",
        "# get specific version\n",
        "version = storage_client.get_specific_record(recordId=recordId, version=checking_version).json()\n",
        "pprint(\"specific version\")\n",
        "pprint(version)"
      ],
      "metadata": {
        "id": "F0Jv5dLza7X0"
      },
      "execution_count": null,
      "outputs": []
    },
    {
      "cell_type": "code",
      "source": [
        "# By usage show the difference between index/Storage/File APIs, for a data object\n",
        "# In practice the user seeing the indexed data, the stored data and the payload data (CSV, LAS, DLIS, Parquet)\n",
        "\n",
        "# upload file and metadata using dataset\n",
        "upload_file_and_metadata()\n",
        "\n",
        "# 10 sec for indexing\n",
        "# search\n",
        "query_request = QueryRequest(\n",
        "    kind= \"*:*:*:*\",\n",
        "    query=\"data.Name:\\\"Dataset with images\\\"\",\n",
        "    limit=2,\n",
        "    returned_fields=[\"*\"]\n",
        ")\n",
        "images_with_metadata = search_client.query_records(query_request).json()\n",
        "pprint(images_with_metadata)\n",
        "\n",
        "# get record from storage\n",
        "record = Record(  kind='osdu:wks:dataset--File.Generic:1.0.0',\n",
        "                  acl=Acl(owners=default_acl['owners'], viewers=default_acl['viewers']),\n",
        "                  legal=Legal(legaltags=[\"osdu-default-data-tag\"], other_relevant_data_countries=[\"US\"], status=\"compliant\"),\n",
        "                  data =   {\n",
        "                    \"DatasetProperties\": {\n",
        "                        \"FileSourceInfo\": {\n",
        "                            # \"FileSource\": storage_location['fileSource'],\n",
        "                            \"Name\": \"image.jpeg\"\n",
        "                        }\n",
        "                    },\n",
        "                    \"Name\": \"Dataset with images\",\n",
        "                })\n",
        "records_request = QueryRecordsRequest(records=[record])\n",
        "images_with_metadata = storage_client.query_records(query_records_request=records_request)\n",
        "pprint(images_with_metadata)\n",
        "\n",
        "# download using file service"
      ],
      "metadata": {
        "id": "EvGsskycbEC3",
        "colab": {
          "base_uri": "https://localhost:8080/"
        },
        "outputId": "7d5ad50f-8a44-40ab-9642-da3dfeaa0032"
      },
      "execution_count": 21,
      "outputs": [
        {
          "output_type": "stream",
          "name": "stdout",
          "text": [
            "<Response [400]>\n"
          ]
        }
      ]
    },
    {
      "cell_type": "markdown",
      "source": [
        "# Slot 3 - Wellbore DDMS"
      ],
      "metadata": {
        "id": "5w8bJPXOoDxJ"
      }
    },
    {
      "cell_type": "markdown",
      "source": [
        "For one of the few well/wellbores that we have prepped a bit"
      ],
      "metadata": {
        "id": "bBUffu5pchoB"
      }
    },
    {
      "cell_type": "code",
      "source": [
        "# By usage see that the DDMS is an added capability to Index/Storage/File\n",
        "# By usage see that same data can be extracted through both core and DDMS\n",
        "\n",
        "# wellbore ddms collection"
      ],
      "metadata": {
        "id": "17_Dnkwot_s2"
      },
      "execution_count": null,
      "outputs": []
    },
    {
      "cell_type": "code",
      "source": [
        "# Show examples on using some of the DDMS APIs. To be determined\n",
        "# Get basic well info to show that it's the same info as you get through the core APIs like (well header, wellbore header, ...)\n",
        "# Demonstrate use of some added functionality in the DDMS\n",
        "# Most likely related to logs and extraction of 1 specific curve, a specific curve interval, etc."
      ],
      "metadata": {
        "id": "VtXsqV66c4lH"
      },
      "execution_count": null,
      "outputs": []
    }
  ]
}